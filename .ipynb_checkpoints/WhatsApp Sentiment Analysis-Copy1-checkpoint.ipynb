{
 "cells": [
  {
   "cell_type": "markdown",
   "id": "a2e36cf7",
   "metadata": {},
   "source": [
    "##### Setting up the Environment"
   ]
  },
  {
   "cell_type": "code",
   "execution_count": 1,
   "id": "7088b604",
   "metadata": {},
   "outputs": [
    {
     "name": "stderr",
     "output_type": "stream",
     "text": [
      "/usr/lib/python3/dist-packages/scipy/__init__.py:146: UserWarning: A NumPy version >=1.17.3 and <1.25.0 is required for this version of SciPy (detected version 1.26.4\n",
      "  warnings.warn(f\"A NumPy version >={np_minversion} and <{np_maxversion}\"\n",
      "[nltk_data] Downloading package vader_lexicon to\n",
      "[nltk_data]     /home/irungu/nltk_data...\n",
      "[nltk_data]   Package vader_lexicon is already up-to-date!\n"
     ]
    }
   ],
   "source": [
    "import pandas as pd\n",
    "import nltk\n",
    "nltk.download('vader_lexicon')\n",
    "from nltk.sentiment import SentimentIntensityAnalyzer\n",
    "import re\n",
    "import matplotlib.pyplot as plt"
   ]
  },
  {
   "cell_type": "markdown",
   "id": "856c2f40",
   "metadata": {},
   "source": [
    "### Add Interactivity to the Visualizations"
   ]
  },
  {
   "cell_type": "code",
   "execution_count": 2,
   "id": "da054794",
   "metadata": {},
   "outputs": [
    {
     "data": {
      "text/html": [
       "        <script type=\"text/javascript\">\n",
       "        window.PlotlyConfig = {MathJaxConfig: 'local'};\n",
       "        if (window.MathJax && window.MathJax.Hub && window.MathJax.Hub.Config) {window.MathJax.Hub.Config({SVG: {font: \"STIX-Web\"}});}\n",
       "        if (typeof require !== 'undefined') {\n",
       "        require.undef(\"plotly\");\n",
       "        requirejs.config({\n",
       "            paths: {\n",
       "                'plotly': ['https://cdn.plot.ly/plotly-2.35.2.min']\n",
       "            }\n",
       "        });\n",
       "        require(['plotly'], function(Plotly) {\n",
       "            window._Plotly = Plotly;\n",
       "        });\n",
       "        }\n",
       "        </script>\n",
       "        "
      ]
     },
     "metadata": {},
     "output_type": "display_data"
    },
    {
     "data": {
      "text/html": [
       "        <script type=\"text/javascript\">\n",
       "        window.PlotlyConfig = {MathJaxConfig: 'local'};\n",
       "        if (window.MathJax && window.MathJax.Hub && window.MathJax.Hub.Config) {window.MathJax.Hub.Config({SVG: {font: \"STIX-Web\"}});}\n",
       "        if (typeof require !== 'undefined') {\n",
       "        require.undef(\"plotly\");\n",
       "        requirejs.config({\n",
       "            paths: {\n",
       "                'plotly': ['https://cdn.plot.ly/plotly-2.35.2.min']\n",
       "            }\n",
       "        });\n",
       "        require(['plotly'], function(Plotly) {\n",
       "            window._Plotly = Plotly;\n",
       "        });\n",
       "        }\n",
       "        </script>\n",
       "        "
      ]
     },
     "metadata": {},
     "output_type": "display_data"
    }
   ],
   "source": [
    "# Standard data science helpers\n",
    "import numpy as np\n",
    "import pandas as pd\n",
    "import scipy\n",
    "\n",
    "# Instantiate the Plotly charting library.\n",
    "import chart_studio.plotly as py\n",
    "import plotly.graph_objs as go\n",
    "import plotly.express as px\n",
    "# We use plotly.offline as this allows us to create interactive \n",
    "# visualisations without the use of an internet connection, \n",
    "# making our notebook more distributable to others. \n",
    "from plotly.offline import iplot, init_notebook_mode\n",
    "init_notebook_mode(connected=True)\n",
    "\n",
    "# The Cufflinks library allows us to directly bind \n",
    "# Pandas DataFrames to Plotly charts. \n",
    "import cufflinks as cf\n",
    "# Once again, we use the Cufflinks library in offline mode. \n",
    "cf.go_offline(connected=True)\n",
    "cf.set_config_file(colorscale='plotly', world_readable=True)\n",
    "\n",
    "# Extra options. We use these to make our interactive \n",
    "# visualisations more aesthetically appealing. \n",
    "from IPython.core.display import HTML\n",
    "pd.options.display.max_rows = 30\n",
    "pd.options.display.max_columns = 25\n",
    "\n",
    "# Show all code cells outputs.\n",
    "from IPython.core.interactiveshell import InteractiveShell\n",
    "InteractiveShell.ast_node_interactivity = 'all'"
   ]
  },
  {
   "cell_type": "markdown",
   "id": "20bad70e",
   "metadata": {},
   "source": [
    "> Since pandas reads data assuming its in tabular format, I had to read the data line from the txt file and convert it into pandas DataFrame for manipulation.\n",
    "Otherwise I encountered the Parsing errors like `Expected 4 fields in line 621, saw 6`"
   ]
  },
  {
   "cell_type": "code",
   "execution_count": 3,
   "id": "c60a0ffe",
   "metadata": {},
   "outputs": [
    {
     "data": {
      "text/html": [
       "<div>\n",
       "<style scoped>\n",
       "    .dataframe tbody tr th:only-of-type {\n",
       "        vertical-align: middle;\n",
       "    }\n",
       "\n",
       "    .dataframe tbody tr th {\n",
       "        vertical-align: top;\n",
       "    }\n",
       "\n",
       "    .dataframe thead th {\n",
       "        text-align: right;\n",
       "    }\n",
       "</style>\n",
       "<table border=\"1\" class=\"dataframe\">\n",
       "  <thead>\n",
       "    <tr style=\"text-align: right;\">\n",
       "      <th></th>\n",
       "      <th>text</th>\n",
       "    </tr>\n",
       "  </thead>\n",
       "  <tbody>\n",
       "    <tr>\n",
       "      <th>0</th>\n",
       "      <td>18/11/2024, 10:05 - Messages and calls are end...</td>\n",
       "    </tr>\n",
       "    <tr>\n",
       "      <th>1</th>\n",
       "      <td>04/11/2024, 14:23 - ~ Calvin created group \"AL...</td>\n",
       "    </tr>\n",
       "    <tr>\n",
       "      <th>2</th>\n",
       "      <td>18/11/2024, 10:05 - You joined using this grou...</td>\n",
       "    </tr>\n",
       "    <tr>\n",
       "      <th>3</th>\n",
       "      <td>18/11/2024, 10:06 - +254 750 122958 joined usi...</td>\n",
       "    </tr>\n",
       "    <tr>\n",
       "      <th>4</th>\n",
       "      <td>18/11/2024, 10:06 - +254 794 107755 joined usi...</td>\n",
       "    </tr>\n",
       "  </tbody>\n",
       "</table>\n",
       "</div>"
      ],
      "text/plain": [
       "                                                text\n",
       "0  18/11/2024, 10:05 - Messages and calls are end...\n",
       "1  04/11/2024, 14:23 - ~ Calvin created group \"AL...\n",
       "2  18/11/2024, 10:05 - You joined using this grou...\n",
       "3  18/11/2024, 10:06 - +254 750 122958 joined usi...\n",
       "4  18/11/2024, 10:06 - +254 794 107755 joined usi..."
      ]
     },
     "execution_count": 3,
     "metadata": {},
     "output_type": "execute_result"
    }
   ],
   "source": [
    "with open(\"WhatsApp Chat with ALX Founder Academy Kenya(Peer Community).txt\",'r',encoding='utf-8')as file:\n",
    "    lines=file.readlines()\n",
    "    \n",
    "df=pd.DataFrame(lines,columns=[\"text\"])\n",
    "df.head()"
   ]
  },
  {
   "cell_type": "markdown",
   "id": "f67bc167",
   "metadata": {},
   "source": [
    "## Preprocessing the Data"
   ]
  },
  {
   "cell_type": "code",
   "execution_count": 4,
   "id": "e1f184d0",
   "metadata": {},
   "outputs": [
    {
     "name": "stdout",
     "output_type": "stream",
     "text": [
      "18/11/2024, 10:08 - +254 715 965881: Hi, The lady who's doing web development and asked about Early adopters... I have a question... please reach out\n",
      "18/11/2024, 10:09 - +254 111 734764: Hello, I joined the group last week and i feel like am the only one lagging behind... I need help, Anyone?\n",
      "18/11/2024, 10:10 - +254 741 507177: Hey guys who here is interested in books or a bookstore\n",
      "18/11/2024, 10:11 - +254 768 270556: Group ya Healthy snacks   its me Erick 😂😂.\n",
      "18/11/2024, 10:12 - +254 791 186943: where can we get the recordings for previous classes?\n"
     ]
    },
    {
     "data": {
      "text/html": [
       "<div>\n",
       "<style scoped>\n",
       "    .dataframe tbody tr th:only-of-type {\n",
       "        vertical-align: middle;\n",
       "    }\n",
       "\n",
       "    .dataframe tbody tr th {\n",
       "        vertical-align: top;\n",
       "    }\n",
       "\n",
       "    .dataframe thead th {\n",
       "        text-align: right;\n",
       "    }\n",
       "</style>\n",
       "<table border=\"1\" class=\"dataframe\">\n",
       "  <thead>\n",
       "    <tr style=\"text-align: right;\">\n",
       "      <th></th>\n",
       "      <th>messages</th>\n",
       "    </tr>\n",
       "  </thead>\n",
       "  <tbody>\n",
       "    <tr>\n",
       "      <th>0</th>\n",
       "      <td>18/11/2024, 10:08 - +254 715 965881: Hi, The l...</td>\n",
       "    </tr>\n",
       "    <tr>\n",
       "      <th>1</th>\n",
       "      <td>18/11/2024, 10:09 - +254 111 734764: Hello, I ...</td>\n",
       "    </tr>\n",
       "    <tr>\n",
       "      <th>2</th>\n",
       "      <td>18/11/2024, 10:10 - +254 741 507177: Hey guys ...</td>\n",
       "    </tr>\n",
       "    <tr>\n",
       "      <th>3</th>\n",
       "      <td>18/11/2024, 10:11 - +254 768 270556: Group ya ...</td>\n",
       "    </tr>\n",
       "    <tr>\n",
       "      <th>4</th>\n",
       "      <td>18/11/2024, 10:12 - +254 791 186943: where can...</td>\n",
       "    </tr>\n",
       "  </tbody>\n",
       "</table>\n",
       "</div>"
      ],
      "text/plain": [
       "                                            messages\n",
       "0  18/11/2024, 10:08 - +254 715 965881: Hi, The l...\n",
       "1  18/11/2024, 10:09 - +254 111 734764: Hello, I ...\n",
       "2  18/11/2024, 10:10 - +254 741 507177: Hey guys ...\n",
       "3  18/11/2024, 10:11 - +254 768 270556: Group ya ...\n",
       "4  18/11/2024, 10:12 - +254 791 186943: where can..."
      ]
     },
     "execution_count": 4,
     "metadata": {},
     "output_type": "execute_result"
    }
   ],
   "source": [
    "# read the data and remove irrelevant system generate messages\n",
    "file_path='./WhatsApp Chat with ALX Founder Academy Kenya(Peer Community).txt'\n",
    "def parse_whatsApp_data(filepath):\n",
    "#    Regex pattern to define messages start with datetime \n",
    "    time_stamp_pattern=r'^\\d{1,2}/\\d{1,2}/\\d{4}, \\d{1,2}:\\d{2} - '\n",
    "#     regex pattern for system messages\n",
    "    system_message_patterns=[\n",
    "        r\"Messages and calls are end-to-end encrypted\",  # Encryption notice\n",
    "        r\"joined using this group's invite link\",        # Join notices\n",
    "        r\"created group\",                                # Group creation\n",
    "        r\"pinned a message\",                             # Pinned messages\n",
    "        r\"changed this group's icon\",                   # Group icon changes\n",
    "        r\"changed the subject\",                          #Group names changes\n",
    "        r' was added',\n",
    "        r' . left',\n",
    "        r' . added .'\n",
    "        \n",
    "    ]\n",
    "#     read file line by \n",
    "    with open(file_path,'r',encoding='utf-8') as file:\n",
    "        lines=file.readlines()\n",
    "    \n",
    "    messages=[]\n",
    "    current_message=\"\"\n",
    "    \n",
    "    for line in lines:\n",
    "        #         check if line matches datetime pattern for new messages\n",
    "        if re.match(time_stamp_pattern,line):\n",
    "            # save current message it it's not empty and not system generated\n",
    "            if current_message:\n",
    "                if not any(re.search(pattern,current_message) for pattern in system_message_patterns):\n",
    "                    messages.append(current_message.strip())\n",
    "            #start new message-if its empty\n",
    "            current_message=line.strip()\n",
    "        else:\n",
    "            #append contnuation lines to the current message\n",
    "            current_message+=\" \"+line.strip()\n",
    "    # add the last message (if valid)\n",
    "    if current_message and not any(re.search(pattern,current_message) for pattern in system_message_patterns):\n",
    "        messages.append(current_message.strip())\n",
    "        \n",
    "    return messages\n",
    "\n",
    "\n",
    "            \n",
    "parse_messages=parse_whatsApp_data(file_path)            \n",
    "\n",
    "for msg in parse_messages[:5]:\n",
    "    print(msg)\n",
    "                \n",
    "\n",
    "df=pd.DataFrame(parse_messages,columns=['messages'])\n",
    "df.head()"
   ]
  },
  {
   "cell_type": "code",
   "execution_count": 5,
   "id": "34d81684",
   "metadata": {},
   "outputs": [],
   "source": [
    "# separate the timestamp,sender and message\n",
    "def split_message_details(messages):\n",
    "    pattern=r'^(\\d{1,2}/\\d{1,2}/\\d{4}, \\d{1,2}:\\d{2}) - ([^:]+): (.+)$'\n",
    "    \n",
    "    timestamp,sender,message_only=[],[],[]\n",
    "    \n",
    "    for message in messages:\n",
    "        match=re.match(pattern,message)\n",
    "        if match:\n",
    "        #if match is either timestamp,sender or message append appropriately\n",
    "            timestamp.append(match.group(1))\n",
    "            sender.append(match.group(2))\n",
    "            message_only.append(match.group(3))\n",
    "        else:\n",
    "            #handle cases where message does not match pattern\n",
    "            timestamp.append(None)\n",
    "            sender.append(None)\n",
    "            message_only.append(message)\n",
    "            \n",
    "        #create df with Extracted Components\n",
    "        df=pd.DataFrame({\n",
    "            \"timestamp\":timestamp,\n",
    "            \"sender\":sender,\n",
    "            \"message\":message_only\n",
    "        })\n",
    "        \n",
    "    return df\n",
    "\n",
    "result=split_message_details(df['messages'].tolist())\n",
    "\n",
    "df1=pd.concat([df,result],axis=1)\n",
    "df1.drop(columns='messages',inplace=True)"
   ]
  },
  {
   "cell_type": "code",
   "execution_count": 6,
   "id": "ba6efbeb",
   "metadata": {},
   "outputs": [
    {
     "data": {
      "text/html": [
       "<div>\n",
       "<style scoped>\n",
       "    .dataframe tbody tr th:only-of-type {\n",
       "        vertical-align: middle;\n",
       "    }\n",
       "\n",
       "    .dataframe tbody tr th {\n",
       "        vertical-align: top;\n",
       "    }\n",
       "\n",
       "    .dataframe thead th {\n",
       "        text-align: right;\n",
       "    }\n",
       "</style>\n",
       "<table border=\"1\" class=\"dataframe\">\n",
       "  <thead>\n",
       "    <tr style=\"text-align: right;\">\n",
       "      <th></th>\n",
       "      <th>timestamp</th>\n",
       "      <th>sender</th>\n",
       "      <th>message</th>\n",
       "    </tr>\n",
       "  </thead>\n",
       "  <tbody>\n",
       "  </tbody>\n",
       "</table>\n",
       "</div>"
      ],
      "text/plain": [
       "Empty DataFrame\n",
       "Columns: [timestamp, sender, message]\n",
       "Index: []"
      ]
     },
     "execution_count": 6,
     "metadata": {},
     "output_type": "execute_result"
    }
   ],
   "source": [
    "# drop the NAN columns that will contain missed system messages\n",
    "df1.dropna(subset=['sender'],inplace=True)\n",
    "\n",
    "df1[df1['timestamp'].isna()]"
   ]
  },
  {
   "cell_type": "markdown",
   "id": "fa69dfc0",
   "metadata": {},
   "source": [
    "## Performing Sentiment Analyis"
   ]
  },
  {
   "cell_type": "code",
   "execution_count": 7,
   "id": "776ab34e",
   "metadata": {},
   "outputs": [],
   "source": [
    "# initialize the sentiment analyzer\n",
    "sia=SentimentIntensityAnalyzer()\n",
    "\n",
    "# Apply sentiment analysis to each message\n",
    "df1['sentiment_score']=df1['message'].apply(lambda text:sia.polarity_scores(text))"
   ]
  },
  {
   "cell_type": "markdown",
   "id": "aece02f4",
   "metadata": {},
   "source": [
    "`NLTK's VADER` provides sentiment scores such as `negative`,`neutral`,`positive`and`compound`"
   ]
  },
  {
   "cell_type": "code",
   "execution_count": 8,
   "id": "fbf0a8fe",
   "metadata": {},
   "outputs": [
    {
     "data": {
      "text/plain": [
       "0       {'neg': 0.0, 'neu': 0.815, 'pos': 0.185, 'comp...\n",
       "1       {'neg': 0.094, 'neu': 0.673, 'pos': 0.233, 'co...\n",
       "2       {'neg': 0.0, 'neu': 0.769, 'pos': 0.231, 'comp...\n",
       "3       {'neg': 0.0, 'neu': 0.722, 'pos': 0.278, 'comp...\n",
       "4       {'neg': 0.0, 'neu': 1.0, 'pos': 0.0, 'compound...\n",
       "                              ...                        \n",
       "1598    {'neg': 0.0, 'neu': 0.635, 'pos': 0.365, 'comp...\n",
       "1599    {'neg': 0.0, 'neu': 1.0, 'pos': 0.0, 'compound...\n",
       "1600    {'neg': 0.0, 'neu': 1.0, 'pos': 0.0, 'compound...\n",
       "1601    {'neg': 0.0, 'neu': 0.756, 'pos': 0.244, 'comp...\n",
       "1602    {'neg': 0.022, 'neu': 0.834, 'pos': 0.145, 'co...\n",
       "Name: sentiment_score, Length: 1595, dtype: object"
      ]
     },
     "execution_count": 8,
     "metadata": {},
     "output_type": "execute_result"
    }
   ],
   "source": [
    "df1['sentiment_score']"
   ]
  },
  {
   "cell_type": "code",
   "execution_count": 9,
   "id": "f4cff23a",
   "metadata": {},
   "outputs": [],
   "source": [
    "df1['compound_score']=df1['sentiment_score'].apply(lambda score:score['compound'])\n",
    "df1['positive_score']=df1['sentiment_score'].apply(lambda score:score['pos'])\n",
    "df1['negative_score']=df1['sentiment_score'].apply(lambda score:score['neg'])\n",
    "df1['neutral_score']=df1['sentiment_score'].apply(lambda score:score['neu'])"
   ]
  },
  {
   "cell_type": "code",
   "execution_count": 10,
   "id": "3210254e",
   "metadata": {},
   "outputs": [
    {
     "data": {
      "text/html": [
       "<div>\n",
       "<style scoped>\n",
       "    .dataframe tbody tr th:only-of-type {\n",
       "        vertical-align: middle;\n",
       "    }\n",
       "\n",
       "    .dataframe tbody tr th {\n",
       "        vertical-align: top;\n",
       "    }\n",
       "\n",
       "    .dataframe thead th {\n",
       "        text-align: right;\n",
       "    }\n",
       "</style>\n",
       "<table border=\"1\" class=\"dataframe\">\n",
       "  <thead>\n",
       "    <tr style=\"text-align: right;\">\n",
       "      <th></th>\n",
       "      <th>timestamp</th>\n",
       "      <th>sender</th>\n",
       "      <th>message</th>\n",
       "      <th>sentiment_score</th>\n",
       "      <th>compound_score</th>\n",
       "      <th>positive_score</th>\n",
       "      <th>negative_score</th>\n",
       "      <th>neutral_score</th>\n",
       "    </tr>\n",
       "  </thead>\n",
       "  <tbody>\n",
       "    <tr>\n",
       "      <th>0</th>\n",
       "      <td>18/11/2024, 10:08</td>\n",
       "      <td>+254 715 965881</td>\n",
       "      <td>Hi, The lady who's doing web development and a...</td>\n",
       "      <td>{'neg': 0.0, 'neu': 0.815, 'pos': 0.185, 'comp...</td>\n",
       "      <td>0.3400</td>\n",
       "      <td>0.185</td>\n",
       "      <td>0.000</td>\n",
       "      <td>0.815</td>\n",
       "    </tr>\n",
       "    <tr>\n",
       "      <th>1</th>\n",
       "      <td>18/11/2024, 10:09</td>\n",
       "      <td>+254 111 734764</td>\n",
       "      <td>Hello, I joined the group last week and i feel...</td>\n",
       "      <td>{'neg': 0.094, 'neu': 0.673, 'pos': 0.233, 'co...</td>\n",
       "      <td>0.4767</td>\n",
       "      <td>0.233</td>\n",
       "      <td>0.094</td>\n",
       "      <td>0.673</td>\n",
       "    </tr>\n",
       "    <tr>\n",
       "      <th>2</th>\n",
       "      <td>18/11/2024, 10:10</td>\n",
       "      <td>+254 741 507177</td>\n",
       "      <td>Hey guys who here is interested in books or a ...</td>\n",
       "      <td>{'neg': 0.0, 'neu': 0.769, 'pos': 0.231, 'comp...</td>\n",
       "      <td>0.4019</td>\n",
       "      <td>0.231</td>\n",
       "      <td>0.000</td>\n",
       "      <td>0.769</td>\n",
       "    </tr>\n",
       "    <tr>\n",
       "      <th>3</th>\n",
       "      <td>18/11/2024, 10:11</td>\n",
       "      <td>+254 768 270556</td>\n",
       "      <td>Group ya Healthy snacks   its me Erick 😂😂.</td>\n",
       "      <td>{'neg': 0.0, 'neu': 0.722, 'pos': 0.278, 'comp...</td>\n",
       "      <td>0.4019</td>\n",
       "      <td>0.278</td>\n",
       "      <td>0.000</td>\n",
       "      <td>0.722</td>\n",
       "    </tr>\n",
       "    <tr>\n",
       "      <th>4</th>\n",
       "      <td>18/11/2024, 10:12</td>\n",
       "      <td>+254 791 186943</td>\n",
       "      <td>where can we get the recordings for previous c...</td>\n",
       "      <td>{'neg': 0.0, 'neu': 1.0, 'pos': 0.0, 'compound...</td>\n",
       "      <td>0.0000</td>\n",
       "      <td>0.000</td>\n",
       "      <td>0.000</td>\n",
       "      <td>1.000</td>\n",
       "    </tr>\n",
       "  </tbody>\n",
       "</table>\n",
       "</div>"
      ],
      "text/plain": [
       "           timestamp           sender  \\\n",
       "0  18/11/2024, 10:08  +254 715 965881   \n",
       "1  18/11/2024, 10:09  +254 111 734764   \n",
       "2  18/11/2024, 10:10  +254 741 507177   \n",
       "3  18/11/2024, 10:11  +254 768 270556   \n",
       "4  18/11/2024, 10:12  +254 791 186943   \n",
       "\n",
       "                                             message  \\\n",
       "0  Hi, The lady who's doing web development and a...   \n",
       "1  Hello, I joined the group last week and i feel...   \n",
       "2  Hey guys who here is interested in books or a ...   \n",
       "3         Group ya Healthy snacks   its me Erick 😂😂.   \n",
       "4  where can we get the recordings for previous c...   \n",
       "\n",
       "                                     sentiment_score  compound_score  \\\n",
       "0  {'neg': 0.0, 'neu': 0.815, 'pos': 0.185, 'comp...          0.3400   \n",
       "1  {'neg': 0.094, 'neu': 0.673, 'pos': 0.233, 'co...          0.4767   \n",
       "2  {'neg': 0.0, 'neu': 0.769, 'pos': 0.231, 'comp...          0.4019   \n",
       "3  {'neg': 0.0, 'neu': 0.722, 'pos': 0.278, 'comp...          0.4019   \n",
       "4  {'neg': 0.0, 'neu': 1.0, 'pos': 0.0, 'compound...          0.0000   \n",
       "\n",
       "   positive_score  negative_score  neutral_score  \n",
       "0           0.185           0.000          0.815  \n",
       "1           0.233           0.094          0.673  \n",
       "2           0.231           0.000          0.769  \n",
       "3           0.278           0.000          0.722  \n",
       "4           0.000           0.000          1.000  "
      ]
     },
     "execution_count": 10,
     "metadata": {},
     "output_type": "execute_result"
    }
   ],
   "source": [
    "df1.head()"
   ]
  },
  {
   "cell_type": "markdown",
   "id": "eeb69233",
   "metadata": {},
   "source": [
    "### Visualizing  the Sentiment Analysis Scores"
   ]
  },
  {
   "cell_type": "code",
   "execution_count": 11,
   "id": "98f7c921",
   "metadata": {},
   "outputs": [
    {
     "data": {
      "text/plain": [
       "<Figure size 576x576 with 0 Axes>"
      ]
     },
     "execution_count": 11,
     "metadata": {},
     "output_type": "execute_result"
    },
    {
     "data": {
      "text/plain": [
       "([<matplotlib.patches.Wedge at 0x7cd0031f7ca0>,\n",
       "  <matplotlib.patches.Wedge at 0x7cd0031f7be0>,\n",
       "  <matplotlib.patches.Wedge at 0x7cd002ee4940>],\n",
       " [Text(0.45059503828767783, -1.0034760143972183, 'Neutral'),\n",
       "  Text(-0.05132438449080094, 1.098801987419317, 'Negative'),\n",
       "  Text(-0.5247498983663125, 0.9667665406728477, 'Positive')],\n",
       " [Text(0.2457791117932788, -0.5473505533075737, '85.7%'),\n",
       "  Text(-0.027995118813164147, 0.5993465385923546, '2.4%'),\n",
       "  Text(-0.2862272172907158, 0.5273272040033714, '11.9%')])"
      ]
     },
     "execution_count": 11,
     "metadata": {},
     "output_type": "execute_result"
    },
    {
     "data": {
      "text/plain": [
       "Text(0.5, 1.0, 'Sentiment Analysis: Neutral, Negative, Positive Scores')"
      ]
     },
     "execution_count": 11,
     "metadata": {},
     "output_type": "execute_result"
    },
    {
     "data": {
      "image/png": "[encoded data removed]",
      "text/plain": [
       "<Figure size 576x576 with 1 Axes>"
      ]
     },
     "metadata": {},
     "output_type": "display_data"
    }
   ],
   "source": [
    "import matplotlib.pyplot as plt\n",
    "\n",
    "\n",
    "neutral_sum = df1['neutral_score'].sum()\n",
    "negative_sum = df1['negative_score'].sum()\n",
    "positive_sum = df1['positive_score'].sum()\n",
    "\n",
    "# Data for the pie chart\n",
    "scores = [neutral_sum, negative_sum, positive_sum]\n",
    "labels = ['Neutral', 'Negative', 'Positive']\n",
    "colors = ['#ADD8E6', '#FF6F61', '#90EE90']  # Light Blue, Red, Light Green\n",
    "\n",
    "# Plotting the pie chart\n",
    "plt.figure(figsize=(8, 8))\n",
    "plt.pie(scores, labels=labels, autopct='%1.1f%%', startangle=140, colors=colors)\n",
    "plt.title('Sentiment Analysis: Neutral, Negative, Positive Scores')\n",
    "plt.show()"
   ]
  },
  {
   "cell_type": "markdown",
   "id": "2863cef5",
   "metadata": {},
   "source": [
    "### Interactive Date Time Filter"
   ]
  },
  {
   "cell_type": "code",
   "execution_count": 12,
   "id": "2e8dce5d",
   "metadata": {},
   "outputs": [],
   "source": [
    "from ipywidgets import interact, interact_manual, widgets"
   ]
  },
  {
   "cell_type": "code",
   "execution_count": 13,
   "id": "e6089e99",
   "metadata": {},
   "outputs": [],
   "source": [
    "# set the time stamp as the index\n",
    "df1['timestamp']=pd.to_datetime(df1['timestamp'],dayfirst=True)\n",
    "df1.set_index(\"timestamp\",inplace=True)"
   ]
  },
  {
   "cell_type": "code",
   "execution_count": 14,
   "id": "8cd35f8a",
   "metadata": {},
   "outputs": [
    {
     "data": {
      "text/html": [
       "<div>\n",
       "<style scoped>\n",
       "    .dataframe tbody tr th:only-of-type {\n",
       "        vertical-align: middle;\n",
       "    }\n",
       "\n",
       "    .dataframe tbody tr th {\n",
       "        vertical-align: top;\n",
       "    }\n",
       "\n",
       "    .dataframe thead th {\n",
       "        text-align: right;\n",
       "    }\n",
       "</style>\n",
       "<table border=\"1\" class=\"dataframe\">\n",
       "  <thead>\n",
       "    <tr style=\"text-align: right;\">\n",
       "      <th></th>\n",
       "      <th>sender</th>\n",
       "      <th>message</th>\n",
       "      <th>sentiment_score</th>\n",
       "      <th>compound_score</th>\n",
       "      <th>positive_score</th>\n",
       "      <th>negative_score</th>\n",
       "      <th>neutral_score</th>\n",
       "    </tr>\n",
       "    <tr>\n",
       "      <th>timestamp</th>\n",
       "      <th></th>\n",
       "      <th></th>\n",
       "      <th></th>\n",
       "      <th></th>\n",
       "      <th></th>\n",
       "      <th></th>\n",
       "      <th></th>\n",
       "    </tr>\n",
       "  </thead>\n",
       "  <tbody>\n",
       "    <tr>\n",
       "      <th>2024-11-18 10:08:00</th>\n",
       "      <td>+254 715 965881</td>\n",
       "      <td>Hi, The lady who's doing web development and a...</td>\n",
       "      <td>{'neg': 0.0, 'neu': 0.815, 'pos': 0.185, 'comp...</td>\n",
       "      <td>0.3400</td>\n",
       "      <td>0.185</td>\n",
       "      <td>0.000</td>\n",
       "      <td>0.815</td>\n",
       "    </tr>\n",
       "    <tr>\n",
       "      <th>2024-11-18 10:09:00</th>\n",
       "      <td>+254 111 734764</td>\n",
       "      <td>Hello, I joined the group last week and i feel...</td>\n",
       "      <td>{'neg': 0.094, 'neu': 0.673, 'pos': 0.233, 'co...</td>\n",
       "      <td>0.4767</td>\n",
       "      <td>0.233</td>\n",
       "      <td>0.094</td>\n",
       "      <td>0.673</td>\n",
       "    </tr>\n",
       "    <tr>\n",
       "      <th>2024-11-18 10:10:00</th>\n",
       "      <td>+254 741 507177</td>\n",
       "      <td>Hey guys who here is interested in books or a ...</td>\n",
       "      <td>{'neg': 0.0, 'neu': 0.769, 'pos': 0.231, 'comp...</td>\n",
       "      <td>0.4019</td>\n",
       "      <td>0.231</td>\n",
       "      <td>0.000</td>\n",
       "      <td>0.769</td>\n",
       "    </tr>\n",
       "    <tr>\n",
       "      <th>2024-11-18 10:11:00</th>\n",
       "      <td>+254 768 270556</td>\n",
       "      <td>Group ya Healthy snacks   its me Erick 😂😂.</td>\n",
       "      <td>{'neg': 0.0, 'neu': 0.722, 'pos': 0.278, 'comp...</td>\n",
       "      <td>0.4019</td>\n",
       "      <td>0.278</td>\n",
       "      <td>0.000</td>\n",
       "      <td>0.722</td>\n",
       "    </tr>\n",
       "    <tr>\n",
       "      <th>2024-11-18 10:12:00</th>\n",
       "      <td>+254 791 186943</td>\n",
       "      <td>where can we get the recordings for previous c...</td>\n",
       "      <td>{'neg': 0.0, 'neu': 1.0, 'pos': 0.0, 'compound...</td>\n",
       "      <td>0.0000</td>\n",
       "      <td>0.000</td>\n",
       "      <td>0.000</td>\n",
       "      <td>1.000</td>\n",
       "    </tr>\n",
       "    <tr>\n",
       "      <th>...</th>\n",
       "      <td>...</td>\n",
       "      <td>...</td>\n",
       "      <td>...</td>\n",
       "      <td>...</td>\n",
       "      <td>...</td>\n",
       "      <td>...</td>\n",
       "      <td>...</td>\n",
       "    </tr>\n",
       "    <tr>\n",
       "      <th>2024-12-02 14:01:00</th>\n",
       "      <td>+254 717 966489</td>\n",
       "      <td>thank you for the feedback I will create an of...</td>\n",
       "      <td>{'neg': 0.0, 'neu': 0.635, 'pos': 0.365, 'comp...</td>\n",
       "      <td>0.5574</td>\n",
       "      <td>0.365</td>\n",
       "      <td>0.000</td>\n",
       "      <td>0.635</td>\n",
       "    </tr>\n",
       "    <tr>\n",
       "      <th>2024-12-02 14:01:00</th>\n",
       "      <td>+254 748 759695</td>\n",
       "      <td>Exploitation left right and centre 😂</td>\n",
       "      <td>{'neg': 0.0, 'neu': 1.0, 'pos': 0.0, 'compound...</td>\n",
       "      <td>0.0000</td>\n",
       "      <td>0.000</td>\n",
       "      <td>0.000</td>\n",
       "      <td>1.000</td>\n",
       "    </tr>\n",
       "    <tr>\n",
       "      <th>2024-12-02 14:14:00</th>\n",
       "      <td>+254 111 711713</td>\n",
       "      <td>STK-20240826-WA0021.webp (file attached)</td>\n",
       "      <td>{'neg': 0.0, 'neu': 1.0, 'pos': 0.0, 'compound...</td>\n",
       "      <td>0.0000</td>\n",
       "      <td>0.000</td>\n",
       "      <td>0.000</td>\n",
       "      <td>1.000</td>\n",
       "    </tr>\n",
       "    <tr>\n",
       "      <th>2024-12-02 14:20:00</th>\n",
       "      <td>+254 717 966489</td>\n",
       "      <td>not really I would still answer with or withou...</td>\n",
       "      <td>{'neg': 0.0, 'neu': 0.756, 'pos': 0.244, 'comp...</td>\n",
       "      <td>0.7003</td>\n",
       "      <td>0.244</td>\n",
       "      <td>0.000</td>\n",
       "      <td>0.756</td>\n",
       "    </tr>\n",
       "    <tr>\n",
       "      <th>2024-12-02 14:43:00</th>\n",
       "      <td>+254 799 745234</td>\n",
       "      <td>IMG-20241202-WA0014.jpg (file attached) 🌟 *Wel...</td>\n",
       "      <td>{'neg': 0.022, 'neu': 0.834, 'pos': 0.145, 'co...</td>\n",
       "      <td>0.8904</td>\n",
       "      <td>0.145</td>\n",
       "      <td>0.022</td>\n",
       "      <td>0.834</td>\n",
       "    </tr>\n",
       "  </tbody>\n",
       "</table>\n",
       "<p>1595 rows × 7 columns</p>\n",
       "</div>"
      ],
      "text/plain": [
       "                              sender  \\\n",
       "timestamp                              \n",
       "2024-11-18 10:08:00  +254 715 965881   \n",
       "2024-11-18 10:09:00  +254 111 734764   \n",
       "2024-11-18 10:10:00  +254 741 507177   \n",
       "2024-11-18 10:11:00  +254 768 270556   \n",
       "2024-11-18 10:12:00  +254 791 186943   \n",
       "...                              ...   \n",
       "2024-12-02 14:01:00  +254 717 966489   \n",
       "2024-12-02 14:01:00  +254 748 759695   \n",
       "2024-12-02 14:14:00  +254 111 711713   \n",
       "2024-12-02 14:20:00  +254 717 966489   \n",
       "2024-12-02 14:43:00  +254 799 745234   \n",
       "\n",
       "                                                               message  \\\n",
       "timestamp                                                                \n",
       "2024-11-18 10:08:00  Hi, The lady who's doing web development and a...   \n",
       "2024-11-18 10:09:00  Hello, I joined the group last week and i feel...   \n",
       "2024-11-18 10:10:00  Hey guys who here is interested in books or a ...   \n",
       "2024-11-18 10:11:00         Group ya Healthy snacks   its me Erick 😂😂.   \n",
       "2024-11-18 10:12:00  where can we get the recordings for previous c...   \n",
       "...                                                                ...   \n",
       "2024-12-02 14:01:00  thank you for the feedback I will create an of...   \n",
       "2024-12-02 14:01:00               Exploitation left right and centre 😂   \n",
       "2024-12-02 14:14:00           STK-20240826-WA0021.webp (file attached)   \n",
       "2024-12-02 14:20:00  not really I would still answer with or withou...   \n",
       "2024-12-02 14:43:00  IMG-20241202-WA0014.jpg (file attached) 🌟 *Wel...   \n",
       "\n",
       "                                                       sentiment_score  \\\n",
       "timestamp                                                                \n",
       "2024-11-18 10:08:00  {'neg': 0.0, 'neu': 0.815, 'pos': 0.185, 'comp...   \n",
       "2024-11-18 10:09:00  {'neg': 0.094, 'neu': 0.673, 'pos': 0.233, 'co...   \n",
       "2024-11-18 10:10:00  {'neg': 0.0, 'neu': 0.769, 'pos': 0.231, 'comp...   \n",
       "2024-11-18 10:11:00  {'neg': 0.0, 'neu': 0.722, 'pos': 0.278, 'comp...   \n",
       "2024-11-18 10:12:00  {'neg': 0.0, 'neu': 1.0, 'pos': 0.0, 'compound...   \n",
       "...                                                                ...   \n",
       "2024-12-02 14:01:00  {'neg': 0.0, 'neu': 0.635, 'pos': 0.365, 'comp...   \n",
       "2024-12-02 14:01:00  {'neg': 0.0, 'neu': 1.0, 'pos': 0.0, 'compound...   \n",
       "2024-12-02 14:14:00  {'neg': 0.0, 'neu': 1.0, 'pos': 0.0, 'compound...   \n",
       "2024-12-02 14:20:00  {'neg': 0.0, 'neu': 0.756, 'pos': 0.244, 'comp...   \n",
       "2024-12-02 14:43:00  {'neg': 0.022, 'neu': 0.834, 'pos': 0.145, 'co...   \n",
       "\n",
       "                     compound_score  positive_score  negative_score  \\\n",
       "timestamp                                                             \n",
       "2024-11-18 10:08:00          0.3400           0.185           0.000   \n",
       "2024-11-18 10:09:00          0.4767           0.233           0.094   \n",
       "2024-11-18 10:10:00          0.4019           0.231           0.000   \n",
       "2024-11-18 10:11:00          0.4019           0.278           0.000   \n",
       "2024-11-18 10:12:00          0.0000           0.000           0.000   \n",
       "...                             ...             ...             ...   \n",
       "2024-12-02 14:01:00          0.5574           0.365           0.000   \n",
       "2024-12-02 14:01:00          0.0000           0.000           0.000   \n",
       "2024-12-02 14:14:00          0.0000           0.000           0.000   \n",
       "2024-12-02 14:20:00          0.7003           0.244           0.000   \n",
       "2024-12-02 14:43:00          0.8904           0.145           0.022   \n",
       "\n",
       "                     neutral_score  \n",
       "timestamp                           \n",
       "2024-11-18 10:08:00          0.815  \n",
       "2024-11-18 10:09:00          0.673  \n",
       "2024-11-18 10:10:00          0.769  \n",
       "2024-11-18 10:11:00          0.722  \n",
       "2024-11-18 10:12:00          1.000  \n",
       "...                            ...  \n",
       "2024-12-02 14:01:00          0.635  \n",
       "2024-12-02 14:01:00          1.000  \n",
       "2024-12-02 14:14:00          1.000  \n",
       "2024-12-02 14:20:00          0.756  \n",
       "2024-12-02 14:43:00          0.834  \n",
       "\n",
       "[1595 rows x 7 columns]"
      ]
     },
     "execution_count": 14,
     "metadata": {},
     "output_type": "execute_result"
    }
   ],
   "source": [
    "df1"
   ]
  },
  {
   "cell_type": "code",
   "execution_count": 15,
   "id": "74e6d416",
   "metadata": {},
   "outputs": [
    {
     "data": {
      "text/plain": [
       "pandas._libs.tslibs.timestamps.Timestamp"
      ]
     },
     "execution_count": 15,
     "metadata": {},
     "output_type": "execute_result"
    },
    {
     "data": {
      "text/plain": [
       "pandas.core.indexes.datetimes.DatetimeIndex"
      ]
     },
     "execution_count": 15,
     "metadata": {},
     "output_type": "execute_result"
    }
   ],
   "source": [
    "type(pd.to_datetime('2019-01-01'))\n",
    "type(df1.index)"
   ]
  },
  {
   "cell_type": "code",
   "execution_count": 22,
   "id": "95828551",
   "metadata": {},
   "outputs": [
    {
     "data": {
      "application/vnd.jupyter.widget-view+json": {
       "model_id": "53375f8eff114398b9463f01b517790c",
       "version_major": 2,
       "version_minor": 0
      },
      "text/plain": [
       "interactive(children=(DatePicker(value=datetime.date(2024, 11, 18), description='start_date', step=1), DatePic…"
      ]
     },
     "metadata": {},
     "output_type": "display_data"
    }
   ],
   "source": [
    "def range_of_messages(start_date,end_date):\n",
    "    start_date=pd.to_datetime(start_date)\n",
    "    end_date=pd.to_datetime(end_date)\n",
    "    stat_df=df1.loc[(df1.index>=start_date)&(df1.index<=end_date)].copy()\n",
    "    #sentiment analysis\n",
    "    sentiment_avg = {\n",
    "        'Positive': stat_df['positive_score'].mean(),\n",
    "        'Negative': stat_df['negative_score'].mean(),\n",
    "        'Neutral': stat_df['neutral_score'].mean()\n",
    "    }\n",
    "    fig = px.pie(\n",
    "        values=list(sentiment_avg.values()),\n",
    "        names=list(sentiment_avg.keys()),\n",
    "        title='Sentiment Distribution'\n",
    "    )\n",
    "    fig.show()\n",
    "    \n",
    "_ = interact(\n",
    "    range_of_messages,\n",
    "    start_date=widgets.DatePicker(value=df1.index.min().date()),\n",
    "    end_date=widgets.DatePicker(value=df1.index.max().date())\n",
    ")"
   ]
  },
  {
   "cell_type": "code",
   "execution_count": 26,
   "id": "456fcc4e",
   "metadata": {},
   "outputs": [
    {
     "name": "stderr",
     "output_type": "stream",
     "text": [
      "[nltk_data] Downloading package punkt_tab to /home/irungu/nltk_data...\n",
      "[nltk_data]   Unzipping tokenizers/punkt_tab.zip.\n"
     ]
    },
    {
     "data": {
      "text/plain": [
       "True"
      ]
     },
     "execution_count": 26,
     "metadata": {},
     "output_type": "execute_result"
    },
    {
     "name": "stderr",
     "output_type": "stream",
     "text": [
      "[nltk_data] Downloading package punkt to /home/irungu/nltk_data...\n",
      "[nltk_data]   Package punkt is already up-to-date!\n"
     ]
    },
    {
     "data": {
      "text/plain": [
       "True"
      ]
     },
     "execution_count": 26,
     "metadata": {},
     "output_type": "execute_result"
    },
    {
     "name": "stderr",
     "output_type": "stream",
     "text": [
      "[nltk_data] Downloading package stopwords to /home/irungu/nltk_data...\n",
      "[nltk_data]   Package stopwords is already up-to-date!\n"
     ]
    },
    {
     "data": {
      "text/plain": [
       "True"
      ]
     },
     "execution_count": 26,
     "metadata": {},
     "output_type": "execute_result"
    },
    {
     "name": "stderr",
     "output_type": "stream",
     "text": [
      "[nltk_data] Downloading package wordnet to /home/irungu/nltk_data...\n",
      "[nltk_data]   Package wordnet is already up-to-date!\n"
     ]
    },
    {
     "data": {
      "text/plain": [
       "True"
      ]
     },
     "execution_count": 26,
     "metadata": {},
     "output_type": "execute_result"
    },
    {
     "data": {
      "application/vnd.jupyter.widget-view+json": {
       "model_id": "0dd817eb286e4e15976133ac4ec026d6",
       "version_major": 2,
       "version_minor": 0
      },
      "text/plain": [
       "interactive(children=(DatePicker(value=datetime.date(2024, 11, 18), description='start_date', step=1), DatePic…"
      ]
     },
     "metadata": {},
     "output_type": "display_data"
    }
   ],
   "source": [
    "import pandas as pd\n",
    "import numpy as np\n",
    "from nltk.tokenize import word_tokenize\n",
    "from nltk.corpus import stopwords\n",
    "from nltk.stem import WordNetLemmatizer\n",
    "from sklearn.feature_extraction.text import CountVectorizer\n",
    "from sklearn.decomposition import LatentDirichletAllocation\n",
    "import plotly.express as px\n",
    "import plotly.graph_objects as go\n",
    "from ipywidgets import interact\n",
    "import ipywidgets as widgets\n",
    "import re\n",
    "\n",
    "# Download required NLTK data\n",
    "import nltk\n",
    "nltk.download('punkt_tab')\n",
    "nltk.download('punkt')\n",
    "nltk.download('stopwords')\n",
    "nltk.download('wordnet')\n",
    "\n",
    "def preprocess_text(text):\n",
    "    # Convert to string if not already\n",
    "    text = str(text)\n",
    "    \n",
    "    # Remove special characters and digits\n",
    "    text = re.sub(r'[^a-zA-Z\\s]', '', text)\n",
    "    \n",
    "    # Convert to lowercase\n",
    "    text = text.lower()\n",
    "    \n",
    "    # Tokenize\n",
    "    tokens = word_tokenize(text)\n",
    "    \n",
    "    # Remove stopwords and lemmatize\n",
    "    stop_words = set(stopwords.words('english'))\n",
    "    lemmatizer = WordNetLemmatizer()\n",
    "    tokens = [lemmatizer.lemmatize(token) for token in tokens if token not in stop_words]\n",
    "    \n",
    "    return ' '.join(tokens)\n",
    "\n",
    "def get_topics_and_sentiments(df, start_date, end_date, n_topics=5):\n",
    "    # Filter data by date range\n",
    "    start_date = pd.to_datetime(start_date)\n",
    "    end_date = pd.to_datetime(end_date)\n",
    "    filtered_df = df.loc[(df.index >= start_date) & (df.index <= end_date)].copy()\n",
    "    \n",
    "    # Preprocess messages\n",
    "    filtered_df['processed_text'] = filtered_df['message'].apply(preprocess_text)\n",
    "    \n",
    "    # Create document-term matrix\n",
    "    vectorizer = CountVectorizer(max_features=1000)\n",
    "    doc_term_matrix = vectorizer.fit_transform(filtered_df['processed_text'])\n",
    "    \n",
    "    # Apply LDA\n",
    "    lda_model = LatentDirichletAllocation(n_components=n_topics, random_state=42)\n",
    "    lda_output = lda_model.fit_transform(doc_term_matrix)\n",
    "    \n",
    "    # Get topic keywords\n",
    "    feature_names = vectorizer.get_feature_names_out()\n",
    "    topic_keywords = []\n",
    "    for topic_idx, topic in enumerate(lda_model.components_):\n",
    "        top_keywords = [feature_names[i] for i in topic.argsort()[:-6:-1]]\n",
    "        topic_keywords.append(top_keywords)\n",
    "    \n",
    "    # Assign dominant topic to each message\n",
    "    filtered_df['dominant_topic'] = lda_output.argmax(axis=1)\n",
    "    \n",
    "    # Calculate average sentiment per topic\n",
    "    topic_sentiments = []\n",
    "    for topic_idx in range(n_topics):\n",
    "        topic_messages = filtered_df[filtered_df['dominant_topic'] == topic_idx]\n",
    "        topic_sentiments.append({\n",
    "            'topic': f\"Topic {topic_idx + 1}\\n({', '.join(topic_keywords[topic_idx][:3])})\",\n",
    "            'positive': topic_messages['positive_score'].mean(),\n",
    "            'negative': topic_messages['negative_score'].mean(),\n",
    "            'neutral': topic_messages['neutral_score'].mean(),\n",
    "            'compound': topic_messages['compound_score'].mean(),\n",
    "            'message_count': len(topic_messages)\n",
    "        })\n",
    "    \n",
    "    # Create visualizations\n",
    "    fig1 = px.pie(\n",
    "        values=[ts['message_count'] for ts in topic_sentiments],\n",
    "        names=[ts['topic'] for ts in topic_sentiments],\n",
    "        title='Topic Distribution'\n",
    "    )\n",
    "    \n",
    "    # Create sentiment distribution by topic\n",
    "    fig2 = go.Figure()\n",
    "    topics = [ts['topic'] for ts in topic_sentiments]\n",
    "    \n",
    "    fig2.add_trace(go.Bar(\n",
    "        name='Positive',\n",
    "        x=topics,\n",
    "        y=[ts['positive'] for ts in topic_sentiments],\n",
    "        marker_color='green'\n",
    "    ))\n",
    "    \n",
    "    fig2.add_trace(go.Bar(\n",
    "        name='Neutral',\n",
    "        x=topics,\n",
    "        y=[ts['neutral'] for ts in topic_sentiments],\n",
    "        marker_color='gray'\n",
    "    ))\n",
    "    \n",
    "    fig2.add_trace(go.Bar(\n",
    "        name='Negative',\n",
    "        x=topics,\n",
    "        y=[ts['negative'] for ts in topic_sentiments],\n",
    "        marker_color='red'\n",
    "    ))\n",
    "    \n",
    "    fig2.update_layout(\n",
    "        barmode='group',\n",
    "        title='Sentiment Distribution by Topic',\n",
    "        xaxis_title='Topics',\n",
    "        yaxis_title='Sentiment Score'\n",
    "    )\n",
    "    \n",
    "    return fig1, fig2, topic_keywords\n",
    "\n",
    "# Interactive widget\n",
    "def analyze_topics_and_sentiments(start_date, end_date, n_topics=5):\n",
    "    fig1, fig2, topics = get_topics_and_sentiments(df1, start_date, end_date, n_topics)\n",
    "    fig1.show()\n",
    "    fig2.show()\n",
    "    \n",
    "    print(\"\\nTop keywords for each topic:\")\n",
    "    for i, keywords in enumerate(topics):\n",
    "        print(f\"Topic {i+1}: {', '.join(keywords)}\")\n",
    "\n",
    "_ = interact(\n",
    "    analyze_topics_and_sentiments,\n",
    "    start_date=widgets.DatePicker(value=df1.index.min().date()),\n",
    "    end_date=widgets.DatePicker(value=df1.index.max().date()),\n",
    "    n_topics=widgets.IntSlider(min=2, max=10, value=5, step=1)\n",
    ")"
   ]
  },
  {
   "cell_type": "code",
   "execution_count": null,
   "id": "bc78c9fc",
   "metadata": {},
   "outputs": [],
   "source": []
  }
 ],
 "metadata": {
  "kernelspec": {
   "display_name": "Python 3 (ipykernel)",
   "language": "python",
   "name": "python3"
  },
  "language_info": {
   "codemirror_mode": {
    "name": "ipython",
    "version": 3
   },
   "file_extension": ".py",
   "mimetype": "text/x-python",
   "name": "python",
   "nbconvert_exporter": "python",
   "pygments_lexer": "ipython3",
   "version": "3.10.12"
  }
 },
 "nbformat": 4,
 "nbformat_minor": 5
}
